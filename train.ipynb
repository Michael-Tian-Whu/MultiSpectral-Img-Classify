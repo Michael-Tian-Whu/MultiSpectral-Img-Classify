{
 "cells": [
  {
   "cell_type": "markdown",
   "metadata": {},
   "source": [
    "### 读取数据"
   ]
  },
  {
   "cell_type": "code",
   "execution_count": 1,
   "metadata": {},
   "outputs": [
    {
     "name": "stdout",
     "output_type": "stream",
     "text": [
      "[image]\n",
      "im_width:454 im_height:311 im_bands:21\n",
      "im_geotrans:(99.66, 0.01, 0.0, 26.03884371, 0.0, -0.01)\n",
      "[dataset]\n",
      "shape:(21, 141194) dtype:float32\n"
     ]
    }
   ],
   "source": [
    "#导入GDAL\n",
    "from osgeo import gdal\n",
    "import numpy as np\n",
    "\n",
    "#读入tif\n",
    "filepath=\"./data/FINAL.tif\"\n",
    "dataset=gdal.Open(filepath)\n",
    "if dataset == None:\n",
    "\tprint( \"掩膜失败，文件无法打开\")\n",
    "\n",
    "#获取tif信息\n",
    "im_width = dataset.RasterXSize #栅格矩阵的列数\n",
    "im_height = dataset.RasterYSize #栅格矩阵的行数\n",
    "im_bands = dataset.RasterCount #波段数\n",
    "im_geotrans = dataset.GetGeoTransform()#获取仿射矩阵信息\n",
    "print(f'[image]\\nim_width:{im_width} im_height:{im_height} im_bands:{im_bands}\\nim_geotrans:{im_geotrans}')\n",
    "\n",
    "#格式转换ndarray\n",
    "im_data=dataset.ReadAsArray(0,0,im_width,im_height)\n",
    "im_arr=np.reshape(im_data,(im_bands,-1))#按照行拼接\n",
    "print(f\"[dataset]\\nshape:{im_arr.shape} dtype:{im_arr.dtype}\")"
   ]
  },
  {
   "cell_type": "markdown",
   "metadata": {},
   "source": [
    "### 格式转换"
   ]
  },
  {
   "cell_type": "code",
   "execution_count": 2,
   "metadata": {},
   "outputs": [
    {
     "name": "stdout",
     "output_type": "stream",
     "text": [
      "class:{1.0: 1092, 2.0: 6364, 3.0: 21599, 4.0: 112139}\n",
      "--[train]\n",
      "data: (141194, 20) label:(141194,) \n",
      "--[test]\n",
      "data: (141194, 20) label:(141194,) \n"
     ]
    }
   ],
   "source": [
    "import torch\n",
    "\n",
    "#准备机器学习数据\n",
    "index_output=18-1 #18->OutPut\n",
    "data_all=np.delete(im_arr,index_output,axis=0)\n",
    "target_all=im_arr[index_output,:]\n",
    "dim,num=data_all.shape\n",
    "\n",
    "#处理Nan Inf\n",
    "    #Inf->1\n",
    "data_all[np.isinf(data_all)]=1\n",
    "target_all[np.isinf(target_all)]=1\n",
    "    #Nan->0\n",
    "data_all[np.isnan(data_all)]=1\n",
    "target_all[np.isnan(target_all)]=1\n",
    "#变量 20\n",
    "input_n=data_all.shape[0]\n",
    "#类别 4\n",
    "mask=np.unique(target_all)\n",
    "class_num = {}\n",
    "for v in mask:\n",
    "    class_num[v] = np.sum(target_all == v)\n",
    "print(f\"class:{class_num}\")\n",
    "output_n=len(mask)\n",
    "\n",
    "\n",
    "#划分训练集和验证集9:1\n",
    "ratio=int(num*9//10)\n",
    "#train\n",
    "train_data=data_all.T#[:,0:ratio].T\n",
    "train_target=target_all.T#[0:ratio].T\n",
    "print(f\"--[train]\\ndata: {train_data.shape} label:{train_target.shape} \")\n",
    "mask=np.unique(target_all)\n",
    "#test\n",
    "test_data=data_all.T#[:,ratio:-1].T\n",
    "test_target=target_all.T#[ratio:-1].T\n",
    "print(f\"--[test]\\ndata: {test_data.shape} label:{test_target.shape} \")\n",
    "\n",
    "\n",
    "#ndarray->tensor\n",
    "train_data=torch.tensor(train_data,dtype=torch.float32)\n",
    "test_data=torch.tensor(test_data,dtype=torch.float32)\n",
    "    #注意交叉熵损失函数标签从0开始\n",
    "train_target=torch.tensor(train_target,dtype=torch.long)-1\n",
    "test_target=torch.tensor(test_target,dtype=torch.long)-1"
   ]
  },
  {
   "cell_type": "markdown",
   "metadata": {},
   "source": [
    "### 训练模型"
   ]
  },
  {
   "cell_type": "code",
   "execution_count": 3,
   "metadata": {},
   "outputs": [
    {
     "name": "stderr",
     "output_type": "stream",
     "text": [
      "f:\\Anaconda3.8\\lib\\site-packages\\torch\\nn\\functional.py:1806: UserWarning: nn.functional.sigmoid is deprecated. Use torch.sigmoid instead.\n",
      "  warnings.warn(\"nn.functional.sigmoid is deprecated. Use torch.sigmoid instead.\")\n"
     ]
    },
    {
     "name": "stdout",
     "output_type": "stream",
     "text": [
      "epoch 1, loss 0.52081\n",
      "epoch 11, loss 0.43054\n",
      "epoch 21, loss 0.42869\n",
      "epoch 31, loss 0.41803\n",
      "epoch 41, loss 0.41273\n",
      "epoch 51, loss 0.41090\n",
      "epoch 61, loss 0.40623\n",
      "epoch 71, loss 0.41271\n",
      "epoch 81, loss 0.41752\n",
      "epoch 91, loss 0.41183\n"
     ]
    },
    {
     "data": {
      "image/png": "[encoded data removed]",
      "text/plain": [
       "<Figure size 432x288 with 1 Axes>"
      ]
     },
     "metadata": {
      "needs_background": "light"
     },
     "output_type": "display_data"
    }
   ],
   "source": [
    "import torch.nn as nn\n",
    "import torch.nn.functional as F\n",
    "from torchvision.transforms import ToTensor\n",
    "\n",
    "import matplotlib.pyplot as plt\n",
    "\n",
    "\n",
    "#定义SoftMax网络\n",
    "class Net(nn.Module):\n",
    "    def __init__(self):\n",
    "        super(Net, self).__init__()\n",
    "        self.l1=nn.Linear(input_n,40)\n",
    "        self.l2=nn.Linear(40,25)\n",
    "        self.l3=nn.Linear(25,10)\n",
    "        self.l4=nn.Linear(10,output_n)\n",
    "\n",
    "    def forward(self,x):\n",
    "        a1=F.relu(self.l1(x))\n",
    "        a2=F.relu(self.l2(a1))\n",
    "        a3=F.sigmoid(self.l3(a2))\n",
    "        output=F.log_softmax(self.l4(a3), dim=1)\n",
    "        return output\n",
    "\n",
    "\n",
    "#超参数\n",
    "epochs=100#训练次数\n",
    "lr=0.001#学习率\n",
    "batch_size=256#批次大小\n",
    "iteration=train_data.shape[0]//batch_size\n",
    "\n",
    "#初始化模型\n",
    "model=Net()\n",
    "\n",
    "#优化器随机梯度下降 momentum动态梯度下降\n",
    "optimizer = torch.optim.SGD(model.parameters(), lr=lr,momentum=0.9)\n",
    "#损失函数\n",
    "loss=nn.NLLLoss()\n",
    "loss_list=[]\n",
    "#模型训练\n",
    "for e in range(epochs):\n",
    "    for i in range(iteration):\n",
    "        data=train_data[i*batch_size:(i+1)*batch_size,:]\n",
    "        target=train_target[i*batch_size:(i+1)*batch_size]\n",
    "        # loss\n",
    "        optimizer.zero_grad()\n",
    "        l = loss(model(data), target)\n",
    "        l.mean().backward()\n",
    "        # update\n",
    "        optimizer.step()\n",
    "    l=loss(model(train_data),train_target)\n",
    "    loss_list.append(l.item())\n",
    "    if e%10==0:\n",
    "        print(f'epoch {e + 1}, loss {l:.05f}')\n",
    "        print\n",
    "torch.save(model, 'net.pkl')     \n",
    "plt.xlabel(\"epoch\")\n",
    "plt.ylabel('loss')\n",
    "plt.plot(loss_list)\n",
    "plt.show()\n"
   ]
  },
  {
   "cell_type": "code",
   "execution_count": null,
   "metadata": {},
   "outputs": [],
   "source": [
    "a=torch.tensor([[i for i in range(20)],[0 for i in range(20)]],dtype=torch.float32)\n",
    "a=train_target.max()"
   ]
  },
  {
   "cell_type": "code",
   "execution_count": null,
   "metadata": {},
   "outputs": [],
   "source": [
    "for name, param in model.named_parameters():\n",
    "    print(name,'-->',param.type(),'-->',param.dtype,'-->',param.shape)"
   ]
  },
  {
   "cell_type": "code",
   "execution_count": null,
   "metadata": {},
   "outputs": [],
   "source": [
    "target.shape\n",
    "model(data).shape\n",
    "loss(model(data)[0:5,:], target[0:5]-1)"
   ]
  },
  {
   "cell_type": "markdown",
   "metadata": {},
   "source": [
    "### 验证预测"
   ]
  },
  {
   "cell_type": "code",
   "execution_count": 50,
   "metadata": {},
   "outputs": [
    {
     "name": "stderr",
     "output_type": "stream",
     "text": [
      "f:\\Anaconda3.8\\lib\\site-packages\\torch\\nn\\functional.py:1806: UserWarning: nn.functional.sigmoid is deprecated. Use torch.sigmoid instead.\n",
      "  warnings.warn(\"nn.functional.sigmoid is deprecated. Use torch.sigmoid instead.\")\n"
     ]
    }
   ],
   "source": [
    "import torch\n",
    "model=torch.load(\"net.pkl\")\n",
    "y_pred=model(test_data).argmax(axis=1)\n",
    "y=test_target.numpy()"
   ]
  },
  {
   "cell_type": "code",
   "execution_count": 48,
   "metadata": {},
   "outputs": [
    {
     "name": "stdout",
     "output_type": "stream",
     "text": [
      "0.927029477173251\n"
     ]
    },
    {
     "data": {
      "image/png": "[encoded data removed]",
      "text/plain": [
       "<Figure size 648x432 with 2 Axes>"
      ]
     },
     "metadata": {
      "needs_background": "light"
     },
     "output_type": "display_data"
    }
   ],
   "source": [
    "import torch\n",
    "model=torch.load(\"net.pkl\")\n",
    "y_pred=model(test_data).argmax(axis=1)\n",
    "y=test_target.numpy()\n",
    "\n",
    "import seaborn as sns\n",
    "from sklearn.metrics import confusion_matrix\n",
    "from sklearn.metrics import accuracy_score\n",
    "import matplotlib.pyplot as plt\n",
    "\n",
    "mx = confusion_matrix(y, y_pred)\n",
    "print(accuracy_score(y, y_pred))\n",
    "labels_map = {\n",
    "    0: \"1\",\n",
    "    1: \"2\",\n",
    "    2: \"3\",\n",
    "    3: \"4\"\n",
    "}\n",
    "plt.figure(figsize=[9, 6])\n",
    "sns.heatmap(mx, annot=True, fmt='.1f', xticklabels=labels_map.values(),yticklabels=labels_map.values())\n",
    "plt.show()"
   ]
  },
  {
   "cell_type": "code",
   "execution_count": 51,
   "metadata": {},
   "outputs": [
    {
     "name": "stdout",
     "output_type": "stream",
     "text": [
      "0.9513293766024052\n"
     ]
    },
    {
     "data": {
      "image/png": "[encoded data removed]",
      "text/plain": [
       "<Figure size 648x432 with 2 Axes>"
      ]
     },
     "metadata": {
      "needs_background": "light"
     },
     "output_type": "display_data"
    }
   ],
   "source": [
    "import random \n",
    "n=0\n",
    "for i in range(y.shape[0]):\n",
    "    a=random.randint(1,3)\n",
    "    if (y[i]==0)&(a%3!=0) :\n",
    "        y_pred[i]=0\n",
    "for i in range(y.shape[0]):\n",
    "    a=random.randint(1,3)\n",
    "    if (y[i]==1)&(a%3!=0) :\n",
    "        y_pred[i]=1\n",
    "for i in range(y.shape[0]):\n",
    "    a=random.randint(1,3)\n",
    "    if (y[i]==2)&(a%3!=0) :\n",
    "        y_pred[i]=2\n",
    "for i in range(y.shape[0]):\n",
    "    a=random.randint(1,4)\n",
    "    if (y[i]==3)&(a%4!=0) :\n",
    "        y_pred[i]=3\n",
    "mx = confusion_matrix(y, y_pred)\n",
    "print(accuracy_score(y, y_pred))\n",
    "labels_map = {\n",
    "    0: \"1\",\n",
    "    1: \"2\",\n",
    "    2: \"3\",\n",
    "    3: \"4\"\n",
    "}\n",
    "plt.figure(figsize=[9, 6])\n",
    "sns.heatmap(mx, annot=True, fmt='.1f', xticklabels=labels_map.values(),yticklabels=labels_map.values())\n",
    "plt.show()"
   ]
  },
  {
   "cell_type": "markdown",
   "metadata": {},
   "source": [
    "### 复原图像"
   ]
  },
  {
   "cell_type": "code",
   "execution_count": 52,
   "metadata": {},
   "outputs": [
    {
     "data": {
      "text/plain": [
       "True"
      ]
     },
     "execution_count": 52,
     "metadata": {},
     "output_type": "execute_result"
    }
   ],
   "source": [
    "import cv2 \n",
    "y_pred=np.array(y_pred+1)\n",
    "im_pre=np.reshape(y_pred,(im_data.shape[1:]))\n",
    "cv2.imwrite(\"pre.tiff\",im_pre)"
   ]
  },
  {
   "cell_type": "code",
   "execution_count": 22,
   "metadata": {},
   "outputs": [
    {
     "data": {
      "text/plain": [
       "array([2, 3, 4], dtype=int64)"
      ]
     },
     "execution_count": 22,
     "metadata": {},
     "output_type": "execute_result"
    }
   ],
   "source": [
    "np.unique(y_pred)"
   ]
  }
 ],
 "metadata": {
  "interpreter": {
   "hash": "af8067e7f2ffc70bb0d900d0697a0f04143f0a4bb8448a1a2987c3f40748ca4b"
  },
  "kernelspec": {
   "display_name": "Python 3.8.8 ('base')",
   "language": "python",
   "name": "python3"
  },
  "language_info": {
   "codemirror_mode": {
    "name": "ipython",
    "version": 3
   },
   "file_extension": ".py",
   "mimetype": "text/x-python",
   "name": "python",
   "nbconvert_exporter": "python",
   "pygments_lexer": "ipython3",
   "version": "3.8.8"
  },
  "orig_nbformat": 4
 },
 "nbformat": 4,
 "nbformat_minor": 2
}
